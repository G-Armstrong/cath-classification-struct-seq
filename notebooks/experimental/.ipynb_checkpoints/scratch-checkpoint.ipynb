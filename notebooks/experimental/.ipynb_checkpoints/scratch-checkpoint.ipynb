{
 "cells": [
  {
   "cell_type": "code",
   "execution_count": null,
   "id": "79f0f8f6-53a2-4642-906e-92798ccd744d",
   "metadata": {},
   "outputs": [],
   "source": [
    "import glob\n",
    "import os\n",
    "import torch"
   ]
  },
  {
   "cell_type": "code",
   "execution_count": null,
   "id": "275ba302-f013-4f16-b535-77dd63eddb84",
   "metadata": {},
   "outputs": [],
   "source": [
    "# Directory path containing .pt files\n",
    "directory_path = '../../models/problematic_batches/'\n",
    "\n",
    "# Initialize an empty list to store data from .pt files\n",
    "data_list = []\n",
    "\n",
    "# Use glob to find all .pt files in the directory\n",
    "pt_files = glob.glob(directory_path + '*.pt')\n",
    "\n",
    "# Iterate through each .pt file found\n",
    "for file_path in pt_files:\n",
    "    # Load the data from the .pt file using torch.load() and append to data_list\n",
    "    data = torch.load(file_path)\n",
    "    data_list.append(data)"
   ]
  },
  {
   "cell_type": "code",
   "execution_count": null,
   "id": "d92d6916-7195-4d0e-9512-54f0831a59a3",
   "metadata": {},
   "outputs": [],
   "source": [
    "data_list"
   ]
  },
  {
   "cell_type": "code",
   "execution_count": null,
   "id": "5c0ba66a-6d0e-40b2-85bc-bb51ff4950cf",
   "metadata": {},
   "outputs": [],
   "source": [
    "data_list[0].ptr"
   ]
  },
  {
   "cell_type": "code",
   "execution_count": null,
   "id": "43159a7c-2e51-4e3b-bfbb-77929f29acb8",
   "metadata": {},
   "outputs": [],
   "source": [
    "data_list[0].batch"
   ]
  },
  {
   "cell_type": "code",
   "execution_count": null,
   "id": "69ed8930-1353-466c-99c7-8be57bae2c48",
   "metadata": {},
   "outputs": [],
   "source": [
    "for batch in data_list:\n",
    "    if torch.isnan(batch.x).any():\n",
    "        nan_indices = torch.isnan(batch.x)\n",
    "        print(f'{batch.cath_id} has NaN node feats:')\n",
    "        print(batch.x[nan_indices])\n",
    "\n",
    "    if torch.isnan(batch.edge_attr).any():\n",
    "        nan_indices = torch.isnan(batch.edge_attr)\n",
    "        print(f'{batch.cath_id} has NaN edge feats:')\n",
    "        print(batch.edge_attr[nan_indices])\n",
    "\n",
    "    if torch.isnan(batch.edge_index).any():\n",
    "        nan_indices = torch.isnan(batch.edge_index)\n",
    "        print(f'{batch.cath_id} has NaN edge indices:')\n",
    "        print(batch.edge_index[nan_indices])"
   ]
  },
  {
   "cell_type": "code",
   "execution_count": null,
   "id": "e024aa44-a011-459e-b54b-dccd99d8bb35",
   "metadata": {},
   "outputs": [],
   "source": [
    "data_list[0].edge_attr[0]"
   ]
  },
  {
   "cell_type": "code",
   "execution_count": 2,
   "id": "c4219002-c5e7-4f2c-ac5f-b267901710c2",
   "metadata": {},
   "outputs": [
    {
     "name": "stdout",
     "output_type": "stream",
     "text": [
      "An error occurred when calculating bond angles for [1vd6A00]:\n",
      " Atom1 - <Atom 769: CZ of type C of resname PHE, resid 104 and segid A and altLoc A>\n",
      " Atom2 - <Atom 768: CE2 of type C of resname PHE, resid 104 and segid A and altLoc A>\n",
      "\n",
      "Setting `mean_bond_angle` to 0\n",
      "\n",
      "Mean of empty slice.\n",
      "\n",
      "invalid value encountered in scalar divide\n",
      "\n",
      "1vd6A00\n",
      "785 <Atom 769: CZ of type C of resname PHE, resid 104 and segid A and altLoc A> <Atom 768: CE2 of type C of resname PHE, resid 104 and segid A and altLoc A>\n",
      "1.3932604\n",
      "[]\n",
      "0\n",
      "{'distance': '1.3932604', 'bond_angle': '0'}\n",
      "\n",
      "An error occurred when calculating bond angles for [2phcB02]:\n",
      " Atom1 - <Atom 276: NZ of type N of resname LYS, resid 120 and segid B and altLoc >\n",
      " Atom2 - <Atom 275: CE of type C of resname LYS, resid 120 and segid B and altLoc >\n",
      "\n",
      "Setting `mean_bond_angle` to 0\n",
      "\n",
      "Mean of empty slice.\n",
      "\n",
      "invalid value encountered in scalar divide\n",
      "\n",
      "2phcB02\n",
      "281 <Atom 276: NZ of type N of resname LYS, resid 120 and segid B and altLoc > <Atom 275: CE of type C of resname LYS, resid 120 and segid B and altLoc >\n",
      "1.5226288\n",
      "[]\n",
      "0\n",
      "{'distance': '1.5226288', 'bond_angle': '0'}\n",
      "\n",
      "An error occurred when calculating bond angles for [3n29B01]:\n",
      " Atom1 - <Atom 678: CE of type C of resname MET, resid 319 and segid B and altLoc >\n",
      " Atom2 - <Atom 677: SD of type S of resname MET, resid 319 and segid B and altLoc >\n",
      "\n",
      "Setting `mean_bond_angle` to 0\n",
      "\n",
      "Mean of empty slice.\n",
      "\n",
      "invalid value encountered in scalar divide\n",
      "\n",
      "3n29B01\n",
      "683 <Atom 678: CE of type C of resname MET, resid 319 and segid B and altLoc > <Atom 677: SD of type S of resname MET, resid 319 and segid B and altLoc >\n",
      "1.8867635\n",
      "[]\n",
      "0\n",
      "{'distance': '1.8867635', 'bond_angle': '0'}\n",
      "\n",
      "An error occurred when calculating bond angles for [5dl7A00]:\n",
      " Atom1 - <Atom 3075: CE of type C of resname MET, resid 382 and segid A and altLoc >\n",
      " Atom2 - <Atom 3074: SD of type S of resname MET, resid 382 and segid A and altLoc >\n",
      "\n",
      "Setting `mean_bond_angle` to 0\n",
      "\n",
      "Mean of empty slice.\n",
      "\n",
      "invalid value encountered in scalar divide\n",
      "\n",
      "5dl7A00\n",
      "3144 <Atom 3075: CE of type C of resname MET, resid 382 and segid A and altLoc > <Atom 3074: SD of type S of resname MET, resid 382 and segid A and altLoc >\n",
      "1.6984302\n",
      "[]\n",
      "0\n",
      "{'distance': '1.6984302', 'bond_angle': '0'}\n",
      "\n"
     ]
    }
   ],
   "source": [
    "import MDAnalysis as mda\n",
    "import numpy as np\n",
    "import warnings\n",
    "warnings.filterwarnings(\"ignore\", message=\"Element information is missing, elements attribute will not be populated.\")\n",
    "\n",
    "# Create a function to calculate the bond length\n",
    "def bond_length(atom1, atom2):\n",
    "    return np.linalg.norm(atom1.position - atom2.position)\n",
    "\n",
    "# Create a function to calculate the bond angle\n",
    "def bond_angle(atom1, atom2, atom3):\n",
    "    vec1 = atom1.position - atom2.position\n",
    "    vec2 = atom3.position - atom2.position\n",
    "    cosine_angle = np.dot(vec1, vec2) / (np.linalg.norm(vec1) * np.linalg.norm(vec2))\n",
    "    angle = np.arccos(cosine_angle)\n",
    "    return np.degrees(angle)\n",
    "\n",
    "for cath_id in ['1vd6A00', '2phcB02', '3n29B01', '5dl7A00']:\n",
    "    struct = f'../../data/{cath_id}/pdb/{cath_id}.pdb'\n",
    "    u = mda.Universe(struct, guess_bonds=True)\n",
    "    for i, bond in enumerate(u.bonds):\n",
    "        # Parse out interacting atoms in this bond\n",
    "        atom1, atom2 = bond\n",
    "        # print(i, atom1, atom2)\n",
    "        \n",
    "    \n",
    "        # Determine edge features\n",
    "        '''1) Distance'''\n",
    "        dist = bond_length(atom1, atom2)\n",
    "\n",
    "       \n",
    "        '''2) Mean bond angle'''\n",
    "        bond_angles = []\n",
    "    \n",
    "        neighbors_atom2 = atom2.bonded_atoms\n",
    "        for atom3 in neighbors_atom2:\n",
    "            if atom3 != atom1:\n",
    "                angle_deg = bond_angle(atom1, atom2, atom3)\n",
    "                bond_angles.append(angle_deg)\n",
    "        # print(bond_angles)\n",
    "    \n",
    "        # switch roles to include all angles relevant to the connection\n",
    "        temp = atom1\n",
    "        atom1 = atom2\n",
    "        atom2 = temp\n",
    "    \n",
    "        # and append new calculations...\n",
    "        neighbors_atom2 = atom2.bonded_atoms\n",
    "        for atom3 in neighbors_atom2:\n",
    "            if atom3 != atom1:\n",
    "                angle_deg = bond_angle(atom1, atom2, atom3)\n",
    "                bond_angles.append(angle_deg)\n",
    "     \n",
    "        # Catch RuntimeWarnings during mean calculation\n",
    "        with warnings.catch_warnings(record=True) as w:\n",
    "            warnings.simplefilter(\"always\", RuntimeWarning)\n",
    "            mean_bond_angle = np.mean(bond_angles)\n",
    "            if len(w) > 0:\n",
    "                print(f\"An error occurred when calculating bond angles for [{cath_id}]:\\n Atom1 - {atom1}\\n Atom2 - {atom2}\")\n",
    "                print(f\"Setting `mean_bond_angle` to 0 for this edge\")\n",
    "                print(f\"Warnings:\")\n",
    "                mean_bond_angle = 0\n",
    "                for warning in w:\n",
    "                    print(f'{warning.message}')\n",
    "                        \n",
    "        edge_attributes = {\n",
    "                    'distance' : str(dist),\n",
    "                    'bond_angle' : str(mean_bond_angle)}\n",
    "\n",
    "        if len(bond_angles) == 0:\n",
    "            print(edge_attributes)\n",
    "            print()\n",
    "            continue\n"
   ]
  },
  {
   "cell_type": "code",
   "execution_count": null,
   "id": "1a10b6ad-9f28-4900-8e6b-ea3a3442da50",
   "metadata": {},
   "outputs": [],
   "source": []
  },
  {
   "cell_type": "code",
   "execution_count": null,
   "id": "bcdf59f6-9a4a-4a66-942f-1460cf4dac7b",
   "metadata": {},
   "outputs": [],
   "source": []
  },
  {
   "cell_type": "code",
   "execution_count": null,
   "id": "c0496b7f-b3f2-4c05-9a0f-a578e0694735",
   "metadata": {},
   "outputs": [],
   "source": []
  },
  {
   "cell_type": "code",
   "execution_count": null,
   "id": "2a2a684b-9037-4e18-a582-79813dadf382",
   "metadata": {},
   "outputs": [],
   "source": [
    "def load_data_from_partitions(base_path):\n",
    "    partition_files = glob.glob(os.path.join(base_path, '*.pt'))\n",
    "    data_list = []\n",
    "    for partition_file in partition_files:\n",
    "        partition_data = torch.load(partition_file)\n",
    "        data_list.extend(partition_data)\n",
    "    \n",
    "    print(f\"Loaded {len(data_list)} PyG objects from {base_path}\")\n",
    "    return data_list"
   ]
  },
  {
   "cell_type": "code",
   "execution_count": null,
   "id": "e743197e-3092-49cd-9761-2e38c2363b60",
   "metadata": {},
   "outputs": [],
   "source": [
    "test_list = load_data_from_partitions('../../models/test_partitions')\n",
    "test_list"
   ]
  },
  {
   "cell_type": "code",
   "execution_count": null,
   "id": "be5d5daa-6ddc-4dac-8bcb-9cdb7233ae3c",
   "metadata": {},
   "outputs": [],
   "source": [
    "data = test_list[0]\n",
    "data"
   ]
  },
  {
   "cell_type": "code",
   "execution_count": null,
   "id": "75a2cd9e-62a6-453f-bdaf-4f4789167dc3",
   "metadata": {},
   "outputs": [],
   "source": [
    "edge_feat=[616, 2]"
   ]
  },
  {
   "cell_type": "code",
   "execution_count": null,
   "id": "a1d55035-eb6c-4b3c-a8e1-381e8df795e8",
   "metadata": {},
   "outputs": [],
   "source": [
    "from torch_geometric.utils import dense_to_sparse,  to_undirected\n",
    "edge_index, _ = dense_to_sparse(data.adj_matrix)\n",
    "edge_index"
   ]
  },
  {
   "cell_type": "code",
   "execution_count": null,
   "id": "d7215df2-02bc-469c-98c3-3b9f8147d71e",
   "metadata": {},
   "outputs": [],
   "source": [
    "edge_index.shape"
   ]
  },
  {
   "cell_type": "code",
   "execution_count": null,
   "id": "fe7ea6ea-a1fd-416d-b77b-0d73f7377933",
   "metadata": {},
   "outputs": [],
   "source": [
    "edge_index = to_undirected(edge_index)\n",
    "edge_index"
   ]
  },
  {
   "cell_type": "code",
   "execution_count": null,
   "id": "42e7405b-78b3-49d2-b41a-3d5f5955c346",
   "metadata": {},
   "outputs": [],
   "source": [
    "edge_index.shape"
   ]
  }
 ],
 "metadata": {
  "kernelspec": {
   "display_name": "Python 3 (ipykernel)",
   "language": "python",
   "name": "python3"
  },
  "language_info": {
   "codemirror_mode": {
    "name": "ipython",
    "version": 3
   },
   "file_extension": ".py",
   "mimetype": "text/x-python",
   "name": "python",
   "nbconvert_exporter": "python",
   "pygments_lexer": "ipython3",
   "version": "3.11.9"
  }
 },
 "nbformat": 4,
 "nbformat_minor": 5
}
