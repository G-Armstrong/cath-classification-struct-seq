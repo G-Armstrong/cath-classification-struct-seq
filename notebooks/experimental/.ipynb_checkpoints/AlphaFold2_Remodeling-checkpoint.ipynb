{
 "cells": [
  {
   "cell_type": "code",
   "execution_count": 1,
   "id": "d3ac3104-2b39-4524-9060-73f7ba657f1f",
   "metadata": {},
   "outputs": [],
   "source": [
    "import os\n",
    "import pandas as pd\n",
    "import subprocess"
   ]
  },
  {
   "cell_type": "code",
   "execution_count": 2,
   "id": "84bd89e6-42aa-46a6-a7f8-7069916b1452",
   "metadata": {},
   "outputs": [],
   "source": [
    "# Load data\n",
    "df = pd.read_csv('cleaned_data.csv')\n",
    "\n",
    "# Load old data to get original sequence\n",
    "old_data = pd.read_csv('../data/cath_w_seqs_share.csv')"
   ]
  },
  {
   "cell_type": "code",
   "execution_count": 3,
   "id": "809055db-2eb1-44fd-895a-a2f5a3210acf",
   "metadata": {},
   "outputs": [],
   "source": [
    "def run_alphafold(cath_id, original_sequence, new_sequence):\n",
    "    # Define paths for input and output files\n",
    "    input_fasta = f'../data/{cath_id}/seqs/{cath_id}_input.fasta'\n",
    "    output_pdb = f'../data/{cath_id}/pdb/{cath_id}_remodeled.pdb'\n",
    "\n",
    "    # Write the original and new sequences to a temporary fasta file\n",
    "    with open(input_fasta, 'w') as f:\n",
    "        f.write(f'>{cath_id}\\n{original_sequence}\\n>{cath_id}_new\\n{new_sequence}\\n')\n",
    "\n",
    "    # Run AlphaFold 2 command using Docker\n",
    "    subprocess.run([\n",
    "        'docker', 'run', '-u', f'{os.getuid()}:{os.getgid()}',\n",
    "        '-v', f'{os.getcwd()}:/input',\n",
    "        '-v', f'../data/{cath_id}/pdb:/output',\n",
    "        'alphafold', '/app/alphafold.py', f'--fasta_paths={input_fasta}', f'--output_dir={output_pdb}'\n",
    "    ])\n",
    "\n",
    "    # Clean up temporary input fasta file\n",
    "    os.remove(input_fasta)\n"
   ]
  },
  {
   "cell_type": "code",
   "execution_count": null,
   "id": "976fea8a-b86e-4203-b910-df681b95fb09",
   "metadata": {},
   "outputs": [],
   "source": [
    "# for index, row in df.iterrows():\n",
    "#     # Extract necessary data\n",
    "#     cath_id = row['cath_id']\n",
    "#     new_sequence = row['sequences']\n",
    "    \n",
    "#     original_sequence = old_data[old_data['cath_id'] == cath_id]['sequences'].values[0]\n",
    "#     original_pdb_file = f'../data/{cath_id}/pdb/{cath_id}.pdb'\n",
    "\n",
    "#     # Define output directory\n",
    "#     output_dir = f'../data/{cath_id}/pdb/'\n",
    "\n",
    "#     # Run AlphaFold for this row\n",
    "#     run_alphafold(cath_id, original_pdb_file, original_sequence, new_sequence, output_dir)\n"
   ]
  },
  {
   "cell_type": "code",
   "execution_count": null,
   "id": "6cc00e6b-25e7-4608-bd7f-875c8234d12c",
   "metadata": {},
   "outputs": [],
   "source": [
    "# Extract necessary data\n",
    "cath_id = '3be3A00'\n",
    "new_sequence = 'QDFRPGVYRHYKGDHYLALGLARADETDEVVVVYTRLYARAGLPMSTRLLRIWNETVDTGAGPQPRFAYVGHVTPE'\n",
    "\n",
    "original_sequence = old_data[old_data['cath_id'] == cath_id]['sequences'].values[0]\n",
    "\n",
    "# Run AlphaFold for this row\n",
    "run_alphafold(cath_id, original_sequence, new_sequence)\n"
   ]
  }
 ],
 "metadata": {
  "kernelspec": {
   "display_name": "Python 3 (ipykernel)",
   "language": "python",
   "name": "python3"
  },
  "language_info": {
   "codemirror_mode": {
    "name": "ipython",
    "version": 3
   },
   "file_extension": ".py",
   "mimetype": "text/x-python",
   "name": "python",
   "nbconvert_exporter": "python",
   "pygments_lexer": "ipython3",
   "version": "3.11.9"
  }
 },
 "nbformat": 4,
 "nbformat_minor": 5
}
