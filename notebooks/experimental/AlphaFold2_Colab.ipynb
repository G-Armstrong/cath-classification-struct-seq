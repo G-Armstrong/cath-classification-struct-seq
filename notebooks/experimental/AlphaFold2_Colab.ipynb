{
 "cells": [
  {
   "cell_type": "code",
   "execution_count": 3,
   "id": "3df7ab29-b02b-4561-a404-902d6d439b6a",
   "metadata": {},
   "outputs": [
    {
     "ename": "AttributeError",
     "evalue": "module 'IPython.utils.traitlets' has no attribute 'Unicode'",
     "output_type": "error",
     "traceback": [
      "\u001b[0;31m---------------------------------------------------------------------------\u001b[0m",
      "\u001b[0;31mAttributeError\u001b[0m                            Traceback (most recent call last)",
      "Cell \u001b[0;32mIn[3], line 1\u001b[0m\n\u001b[0;32m----> 1\u001b[0m \u001b[38;5;28;01mimport\u001b[39;00m \u001b[38;5;21;01mgoogle\u001b[39;00m\u001b[38;5;21;01m.\u001b[39;00m\u001b[38;5;21;01mcolab\u001b[39;00m\n",
      "File \u001b[0;32m~/miniconda3/envs/medbio-challenge/lib/python3.11/site-packages/google/colab/__init__.py:26\u001b[0m\n\u001b[1;32m     24\u001b[0m \u001b[38;5;28;01mfrom\u001b[39;00m \u001b[38;5;21;01mgoogle\u001b[39;00m\u001b[38;5;21;01m.\u001b[39;00m\u001b[38;5;21;01mcolab\u001b[39;00m \u001b[38;5;28;01mimport\u001b[39;00m _tensorflow_magics\n\u001b[1;32m     25\u001b[0m \u001b[38;5;28;01mfrom\u001b[39;00m \u001b[38;5;21;01mgoogle\u001b[39;00m\u001b[38;5;21;01m.\u001b[39;00m\u001b[38;5;21;01mcolab\u001b[39;00m \u001b[38;5;28;01mimport\u001b[39;00m auth\n\u001b[0;32m---> 26\u001b[0m \u001b[38;5;28;01mfrom\u001b[39;00m \u001b[38;5;21;01mgoogle\u001b[39;00m\u001b[38;5;21;01m.\u001b[39;00m\u001b[38;5;21;01mcolab\u001b[39;00m \u001b[38;5;28;01mimport\u001b[39;00m data_table\n\u001b[1;32m     27\u001b[0m \u001b[38;5;28;01mfrom\u001b[39;00m \u001b[38;5;21;01mgoogle\u001b[39;00m\u001b[38;5;21;01m.\u001b[39;00m\u001b[38;5;21;01mcolab\u001b[39;00m \u001b[38;5;28;01mimport\u001b[39;00m drive\n\u001b[1;32m     28\u001b[0m \u001b[38;5;28;01mfrom\u001b[39;00m \u001b[38;5;21;01mgoogle\u001b[39;00m\u001b[38;5;21;01m.\u001b[39;00m\u001b[38;5;21;01mcolab\u001b[39;00m \u001b[38;5;28;01mimport\u001b[39;00m files\n",
      "File \u001b[0;32m~/miniconda3/envs/medbio-challenge/lib/python3.11/site-packages/google/colab/data_table.py:166\u001b[0m\n\u001b[1;32m    149\u001b[0m       columns_and_types\u001b[38;5;241m.\u001b[39mappend((column_type, \u001b[38;5;28mstr\u001b[39m(header_formatters[i](column))))\n\u001b[1;32m    151\u001b[0m     \u001b[38;5;28;01mreturn\u001b[39;00m \u001b[38;5;124m\"\"\"\u001b[39m\n\u001b[1;32m    152\u001b[0m \u001b[38;5;124m      import \u001b[39m\u001b[38;5;124m\"\u001b[39m\u001b[38;5;132;01m{gviz_url}\u001b[39;00m\u001b[38;5;124m\"\u001b[39m\u001b[38;5;124m;\u001b[39m\n\u001b[1;32m    153\u001b[0m \n\u001b[0;32m   (...)\u001b[0m\n\u001b[1;32m    162\u001b[0m         columns\u001b[38;5;241m=\u001b[39m_json\u001b[38;5;241m.\u001b[39mdumps(columns_and_types),\n\u001b[1;32m    163\u001b[0m         num_rows_per_page\u001b[38;5;241m=\u001b[39m\u001b[38;5;28mself\u001b[39m\u001b[38;5;241m.\u001b[39m_num_rows_per_page)\n\u001b[0;32m--> 166\u001b[0m \u001b[38;5;28;43;01mclass\u001b[39;49;00m\u001b[43m \u001b[49m\u001b[38;5;21;43;01m_JavascriptModuleFormatter\u001b[39;49;00m\u001b[43m(\u001b[49m\u001b[43m_IPython\u001b[49m\u001b[38;5;241;43m.\u001b[39;49m\u001b[43mcore\u001b[49m\u001b[38;5;241;43m.\u001b[39;49m\u001b[43mformatters\u001b[49m\u001b[38;5;241;43m.\u001b[39;49m\u001b[43mBaseFormatter\u001b[49m\u001b[43m)\u001b[49m\u001b[43m:\u001b[49m\n\u001b[1;32m    167\u001b[0m \u001b[43m  \u001b[49m\u001b[43mformat_type\u001b[49m\u001b[43m \u001b[49m\u001b[38;5;241;43m=\u001b[39;49m\u001b[43m \u001b[49m\u001b[43m_traitlets\u001b[49m\u001b[38;5;241;43m.\u001b[39;49m\u001b[43mUnicode\u001b[49m\u001b[43m(\u001b[49m\u001b[43m_JAVASCRIPT_MODULE_MIME_TYPE\u001b[49m\u001b[43m)\u001b[49m\n\u001b[1;32m    168\u001b[0m \u001b[43m  \u001b[49m\u001b[43mprint_method\u001b[49m\u001b[43m \u001b[49m\u001b[38;5;241;43m=\u001b[39;49m\u001b[43m \u001b[49m\u001b[43m_traitlets\u001b[49m\u001b[38;5;241;43m.\u001b[39;49m\u001b[43mObjectName\u001b[49m\u001b[43m(\u001b[49m\u001b[38;5;124;43m'\u001b[39;49m\u001b[38;5;124;43m_repr_javascript_module_\u001b[39;49m\u001b[38;5;124;43m'\u001b[39;49m\u001b[43m)\u001b[49m\n",
      "File \u001b[0;32m~/miniconda3/envs/medbio-challenge/lib/python3.11/site-packages/google/colab/data_table.py:167\u001b[0m, in \u001b[0;36m_JavascriptModuleFormatter\u001b[0;34m()\u001b[0m\n\u001b[1;32m    166\u001b[0m \u001b[38;5;28;01mclass\u001b[39;00m \u001b[38;5;21;01m_JavascriptModuleFormatter\u001b[39;00m(_IPython\u001b[38;5;241m.\u001b[39mcore\u001b[38;5;241m.\u001b[39mformatters\u001b[38;5;241m.\u001b[39mBaseFormatter):\n\u001b[0;32m--> 167\u001b[0m   format_type \u001b[38;5;241m=\u001b[39m \u001b[43m_traitlets\u001b[49m\u001b[38;5;241;43m.\u001b[39;49m\u001b[43mUnicode\u001b[49m(_JAVASCRIPT_MODULE_MIME_TYPE)\n\u001b[1;32m    168\u001b[0m   print_method \u001b[38;5;241m=\u001b[39m _traitlets\u001b[38;5;241m.\u001b[39mObjectName(\u001b[38;5;124m'\u001b[39m\u001b[38;5;124m_repr_javascript_module_\u001b[39m\u001b[38;5;124m'\u001b[39m)\n",
      "\u001b[0;31mAttributeError\u001b[0m: module 'IPython.utils.traitlets' has no attribute 'Unicode'"
     ]
    }
   ],
   "source": [
    "import google.colab\n"
   ]
  },
  {
   "cell_type": "code",
   "execution_count": 1,
   "id": "20b145e1-402e-48fe-a855-6b91fdcfcfdc",
   "metadata": {},
   "outputs": [
    {
     "ename": "ModuleNotFoundError",
     "evalue": "No module named 'google'",
     "output_type": "error",
     "traceback": [
      "\u001b[0;31m---------------------------------------------------------------------------\u001b[0m",
      "\u001b[0;31mModuleNotFoundError\u001b[0m                       Traceback (most recent call last)",
      "Cell \u001b[0;32mIn[1], line 3\u001b[0m\n\u001b[1;32m      1\u001b[0m \u001b[38;5;28;01mimport\u001b[39;00m \u001b[38;5;21;01mrequests\u001b[39;00m\n\u001b[1;32m      2\u001b[0m \u001b[38;5;28;01mimport\u001b[39;00m \u001b[38;5;21;01mjson\u001b[39;00m\n\u001b[0;32m----> 3\u001b[0m \u001b[38;5;28;01mfrom\u001b[39;00m \u001b[38;5;21;01mgoogle\u001b[39;00m\u001b[38;5;21;01m.\u001b[39;00m\u001b[38;5;21;01mcolab\u001b[39;00m \u001b[38;5;28;01mimport\u001b[39;00m drive\n\u001b[1;32m      5\u001b[0m \u001b[38;5;66;03m# Mount Google Drive\u001b[39;00m\n\u001b[1;32m      6\u001b[0m drive\u001b[38;5;241m.\u001b[39mmount(\u001b[38;5;124m'\u001b[39m\u001b[38;5;124m/content/drive\u001b[39m\u001b[38;5;124m'\u001b[39m)\n",
      "\u001b[0;31mModuleNotFoundError\u001b[0m: No module named 'google'"
     ]
    }
   ],
   "source": [
    "import requests\n",
    "import json\n",
    "from google.colab import drive\n",
    "\n",
    "# Mount Google Drive\n",
    "drive.mount('/content/drive')\n",
    "\n",
    "# Path to your notebook in Google Drive\n",
    "notebook_path = '/content/drive/My Drive/alphafold_colab.ipynb'\n",
    "\n",
    "def update_and_run_notebook(sequence):\n",
    "    with open(notebook_path, 'r') as file:\n",
    "        notebook_content = json.load(file)\n",
    "    \n",
    "    # Update the input cell with the new protein sequence\n",
    "    for cell in notebook_content['cells']:\n",
    "        if cell['cell_type'] == 'code':\n",
    "            # Assume the first code cell contains the sequence input\n",
    "            cell['source'] = [f\"sequence = '{sequence}'\\n\"] + cell['source'][1:]\n",
    "            break\n",
    "    \n",
    "    # Save the updated notebook\n",
    "    with open(notebook_path, 'w') as file:\n",
    "        json.dump(notebook_content, file)\n",
    "    \n",
    "    # Run the notebook\n",
    "    requests.post(\n",
    "        'https://colab.research.google.com/drive/<NOTEBOOK_ID>/execute',\n",
    "        headers={\n",
    "            'Authorization': 'Bearer ' + auth.get_auth_token(),\n",
    "            'Content-Type': 'application/json'\n",
    "        },\n",
    "        json={\n",
    "            'path': notebook_path,\n",
    "            'parameters': {}\n",
    "        }\n",
    "    )\n",
    "\n",
    "# Example usage\n",
    "sequence = \"YOUR_PROTEIN_SEQUENCE\"\n",
    "update_and_run_notebook(sequence)\n"
   ]
  }
 ],
 "metadata": {
  "kernelspec": {
   "display_name": "Python 3 (ipykernel)",
   "language": "python",
   "name": "python3"
  },
  "language_info": {
   "codemirror_mode": {
    "name": "ipython",
    "version": 3
   },
   "file_extension": ".py",
   "mimetype": "text/x-python",
   "name": "python",
   "nbconvert_exporter": "python",
   "pygments_lexer": "ipython3",
   "version": "3.11.9"
  }
 },
 "nbformat": 4,
 "nbformat_minor": 5
}
