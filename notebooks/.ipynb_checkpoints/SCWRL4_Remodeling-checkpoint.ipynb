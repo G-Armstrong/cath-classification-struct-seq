{
 "cells": [
  {
   "cell_type": "code",
   "execution_count": 1,
   "id": "37aa0a05-0437-4a32-8612-79857d1a4022",
   "metadata": {},
   "outputs": [],
   "source": [
    "# 'scwrl4 -i {pdb_filename} -s {new_fasta_seq_file} -o {remodeled_pdb_file} > {workSubfolder}/modeling.log' "
   ]
  },
  {
   "cell_type": "code",
   "execution_count": 2,
   "id": "f0132061-8dbd-45ef-a960-67b049e4018f",
   "metadata": {},
   "outputs": [],
   "source": [
    "import os\n",
    "import pandas as pd"
   ]
  },
  {
   "cell_type": "code",
   "execution_count": 3,
   "id": "f28d14fe-3ec9-4a4b-9208-b65598c8e10d",
   "metadata": {},
   "outputs": [],
   "source": [
    "# Load Data\n",
    "df = ''"
   ]
  },
  {
   "cell_type": "code",
   "execution_count": 4,
   "id": "61ca95de-7395-445c-a469-951b3822379b",
   "metadata": {},
   "outputs": [],
   "source": [
    "import os\n",
    "\n",
    "# Assuming `df` is your DataFrame\n",
    "def create_bash_script(df, script_path):\n",
    "    with open(script_path, 'w') as modelScript:\n",
    "        # Write the initial file check lines\n",
    "        fileCheckString = (\"#############################################################################################################################\\n\"\n",
    "                           \"############ Checking for scwrl4 in the workFolder ##########################################################################\\n\"\n",
    "                           \"#############################################################################################################################\\n\"\n",
    "                           \"echo \\\"Checking for scwrl4..\\\"; if [ ! -f \\\"../src/scwrl/scwrl4\\\" ]; then echo \\\"[ERROR]: scwrl4 not found. Exitting\\!\\\"; exit 1; else echo \\\"scwrl4 found. Proceeding....\\\"; fi ; \\n\")\n",
    "        modelScript.write(fileCheckString)\n",
    "\n",
    "        # Loop through the DataFrame\n",
    "        for index, row in df.iterrows():\n",
    "            cath_id = row['cath_id']\n",
    "            sequences = row['sequences']\n",
    "            \n",
    "            workSubfolder = f\"../data/{cath_id}\"\n",
    "            \n",
    "            pdb_dir = f\"{workSubfolder}/pdb\"\n",
    "            pdb_filename = f\"{pdb_dir}/{cath_id}\"\n",
    "            \n",
    "            seqs_dir = f\"{workSubfolder}/seqs\"\n",
    "            new_fasta_seq_file = f\"{seqs_dir}/modified.fasta\"\n",
    "\n",
    "            # Ensure the directories exist\n",
    "            os.makedirs(pdb_dir, exist_ok=True)\n",
    "            os.makedirs(seqs_dir, exist_ok=True)\n",
    "\n",
    "            # Write sequences to modified.fasta\n",
    "            with open(new_fasta_seq_file, 'w') as fasta_file:\n",
    "                fasta_file.write(sequences)\n",
    "\n",
    "            # Prepare script lines\n",
    "            commentString = (\"#############################################################################################################################\\n\"\n",
    "                             f\"###################### BUILDING SCWRL MODEL FOR WORK INDEX {index} (pdb: {cath_id}) ########################################\\n\"\n",
    "                             \"#############################################################################################################################\\n\")\n",
    "            modelScript.write(commentString)\n",
    "\n",
    "            checkLogsForSkip = f\"( if ! {{ [ -f {seqs_dir}/step1-model.log ] && ( grep -q Scwrl4_Execution {seqs_dir}/step1-model.log ) }} ; then   \"\n",
    "            runScwrl = f\" ../src/scwrl/scwrl4  -i {pdb_filename} -s {new_fasta_seq_file} -o {pdb_dir}/{cath_id}_remodeled.pdb > {workSubfolder}/modeling.log; \"\n",
    "            addRunToLogs = f\" echo \\\"scwrl4 model built for [{cath_id}] on $(date) \\\" > {workSubfolder}/modelStatus.log ;  fi; ) &\"\n",
    "            newLine = checkLogsForSkip + runScwrl + addRunToLogs + \"\\n\"\n",
    "            statusString = f\"echo \\\"[FINISHED]: {index} Modeled PDB: {cath_id}\\\"\\n\"\n",
    "\n",
    "            modelScript.write(newLine)\n",
    "            modelScript.write(statusString)\n",
    "            modelScript.write(\"wait;\\n\")"
   ]
  },
  {
   "cell_type": "code",
   "execution_count": 5,
   "id": "dbdb654e-83fd-42aa-ab43-1180508eb696",
   "metadata": {},
   "outputs": [
    {
     "ename": "AttributeError",
     "evalue": "'str' object has no attribute 'iterrows'",
     "output_type": "error",
     "traceback": [
      "\u001b[0;31m---------------------------------------------------------------------------\u001b[0m",
      "\u001b[0;31mAttributeError\u001b[0m                            Traceback (most recent call last)",
      "Cell \u001b[0;32mIn[5], line 3\u001b[0m\n\u001b[1;32m      1\u001b[0m \u001b[38;5;66;03m# Create the bash script\u001b[39;00m\n\u001b[1;32m      2\u001b[0m bash_script \u001b[38;5;241m=\u001b[39m \u001b[38;5;124m'\u001b[39m\u001b[38;5;124mscwrl4_remodeling.sh\u001b[39m\u001b[38;5;124m'\u001b[39m\n\u001b[0;32m----> 3\u001b[0m \u001b[43mcreate_bash_script\u001b[49m\u001b[43m(\u001b[49m\u001b[43mdf\u001b[49m\u001b[43m,\u001b[49m\u001b[43m \u001b[49m\u001b[43mbash_script\u001b[49m\u001b[43m)\u001b[49m\n",
      "Cell \u001b[0;32mIn[4], line 14\u001b[0m, in \u001b[0;36mcreate_bash_script\u001b[0;34m(df, script_path)\u001b[0m\n\u001b[1;32m     11\u001b[0m modelScript\u001b[38;5;241m.\u001b[39mwrite(fileCheckString)\n\u001b[1;32m     13\u001b[0m \u001b[38;5;66;03m# Loop through the DataFrame\u001b[39;00m\n\u001b[0;32m---> 14\u001b[0m \u001b[38;5;28;01mfor\u001b[39;00m index, row \u001b[38;5;129;01min\u001b[39;00m \u001b[43mdf\u001b[49m\u001b[38;5;241;43m.\u001b[39;49m\u001b[43miterrows\u001b[49m():\n\u001b[1;32m     15\u001b[0m     cath_id \u001b[38;5;241m=\u001b[39m row[\u001b[38;5;124m'\u001b[39m\u001b[38;5;124mcath_id\u001b[39m\u001b[38;5;124m'\u001b[39m]\n\u001b[1;32m     16\u001b[0m     sequences \u001b[38;5;241m=\u001b[39m row[\u001b[38;5;124m'\u001b[39m\u001b[38;5;124msequences\u001b[39m\u001b[38;5;124m'\u001b[39m]\n",
      "\u001b[0;31mAttributeError\u001b[0m: 'str' object has no attribute 'iterrows'"
     ]
    }
   ],
   "source": [
    "# Create the bash script\n",
    "bash_script = 'scwrl4_remodeling.sh'\n",
    "create_bash_script(df, bash_script)"
   ]
  }
 ],
 "metadata": {
  "kernelspec": {
   "display_name": "Python 3 (ipykernel)",
   "language": "python",
   "name": "python3"
  },
  "language_info": {
   "codemirror_mode": {
    "name": "ipython",
    "version": 3
   },
   "file_extension": ".py",
   "mimetype": "text/x-python",
   "name": "python",
   "nbconvert_exporter": "python",
   "pygments_lexer": "ipython3",
   "version": "3.11.9"
  }
 },
 "nbformat": 4,
 "nbformat_minor": 5
}
